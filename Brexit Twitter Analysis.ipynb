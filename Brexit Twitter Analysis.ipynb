{
 "cells": [
  {
   "cell_type": "markdown",
   "metadata": {},
   "source": [
    "# Brexit Twitter Analysis\n",
    "\n",
    "### By-\n",
    "### Thejas Raju\n",
    "### Sumanth Sajjan"
   ]
  },
  {
   "cell_type": "markdown",
   "metadata": {},
   "source": [
    "Importing packages required"
   ]
  },
  {
   "cell_type": "code",
   "execution_count": 3,
   "metadata": {},
   "outputs": [],
   "source": [
    "#For creating Twitter API\n",
    "import tweepy\n",
    "\n",
    "import pandas as pd\n",
    "import numpy as np\n",
    "import csv\n",
    "from textblob import TextBlob\n",
    "\n",
    "# For plotting and visualization:\n",
    "from IPython.display import display\n",
    "import matplotlib.pyplot as plt\n",
    "import seaborn as sns\n",
    "%matplotlib inline\n"
   ]
  },
  {
   "cell_type": "markdown",
   "metadata": {},
   "source": [
    "Establishing connection to Twitter API to mine data"
   ]
  },
  {
   "cell_type": "code",
   "execution_count": 4,
   "metadata": {},
   "outputs": [],
   "source": [
    "consumer_key = \"\"\n",
    "consumer_key_secret = \"\"\n",
    "access_token = \"\"\n",
    "access_token_secret = \"\"\n",
    "\n",
    "auth = tweepy.OAuthHandler(consumer_key,consumer_key_secret)\n",
    "auth.set_access_token(access_token,access_token_secret)\n",
    "api = tweepy.API(auth, wait_on_rate_limit=True, wait_on_rate_limit_notify=True)\n"
   ]
  },
  {
   "cell_type": "markdown",
   "metadata": {},
   "source": [
    "Mining tweets with search term, language and number of tweets specified"
   ]
  },
  {
   "cell_type": "code",
   "execution_count": 3,
   "metadata": {},
   "outputs": [],
   "source": [
    "i=0\n",
    "tweets=[];\n",
    "for i in range(0,5):\n",
    "    tweets = tweets + api.search(\"Brexit\", \"en\", count=500)"
   ]
  },
  {
   "cell_type": "markdown",
   "metadata": {},
   "source": [
    "The tweets are returned in an array with the contents contained in a json format. This can be observed below:"
   ]
  },
  {
   "cell_type": "code",
   "execution_count": 4,
   "metadata": {},
   "outputs": [
    {
     "name": "stderr",
     "output_type": "stream",
     "text": [
      "IOPub data rate exceeded.\n",
      "The notebook server will temporarily stop sending output\n",
      "to the client in order to avoid crashing it.\n",
      "To change this limit, set the config variable\n",
      "`--NotebookApp.iopub_data_rate_limit`.\n",
      "\n",
      "Current values:\n",
      "NotebookApp.iopub_data_rate_limit=1000000.0 (bytes/sec)\n",
      "NotebookApp.rate_limit_window=3.0 (secs)\n",
      "\n"
     ]
    }
   ],
   "source": [
    "print(tweets)"
   ]
  },
  {
   "cell_type": "code",
   "execution_count": 5,
   "metadata": {},
   "outputs": [],
   "source": [
    "csvFile = open('tweets.csv', 'w')\n",
    "\n",
    "#Use csv writer\n",
    "csvWriter = csv.writer(csvFile)\n",
    "csvWriter.writerow(['Text'])\n",
    "for tweet in tweets:\n",
    "     csvWriter.writerow([tweet.text.encode('utf-8')])\n",
    "\n",
    "csvFile.close()"
   ]
  },
  {
   "cell_type": "markdown",
   "metadata": {},
   "source": [
    "Creating a pandas dataframe to store tweets in an organized structure:"
   ]
  },
  {
   "cell_type": "code",
   "execution_count": 6,
   "metadata": {
    "scrolled": true
   },
   "outputs": [
    {
     "data": {
      "text/html": [
       "<div>\n",
       "<style scoped>\n",
       "    .dataframe tbody tr th:only-of-type {\n",
       "        vertical-align: middle;\n",
       "    }\n",
       "\n",
       "    .dataframe tbody tr th {\n",
       "        vertical-align: top;\n",
       "    }\n",
       "\n",
       "    .dataframe thead th {\n",
       "        text-align: right;\n",
       "    }\n",
       "</style>\n",
       "<table border=\"1\" class=\"dataframe\">\n",
       "  <thead>\n",
       "    <tr style=\"text-align: right;\">\n",
       "      <th></th>\n",
       "      <th>Tweets</th>\n",
       "    </tr>\n",
       "  </thead>\n",
       "  <tbody>\n",
       "    <tr>\n",
       "      <th>0</th>\n",
       "      <td>RT @NadineDorries: Minister claims 80% of publ...</td>\n",
       "    </tr>\n",
       "    <tr>\n",
       "      <th>1</th>\n",
       "      <td>RT @michael1crowley: I joined the LP when I wa...</td>\n",
       "    </tr>\n",
       "    <tr>\n",
       "      <th>2</th>\n",
       "      <td>@DominicRaab I hope you win. Very charismatic ...</td>\n",
       "    </tr>\n",
       "    <tr>\n",
       "      <th>3</th>\n",
       "      <td>RT @bbradleymp: A #brexit thread 👇\\n\\n1. In 20...</td>\n",
       "    </tr>\n",
       "    <tr>\n",
       "      <th>4</th>\n",
       "      <td>RT @grahamlithgow: \"What if a no deal Brexit c...</td>\n",
       "    </tr>\n",
       "  </tbody>\n",
       "</table>\n",
       "</div>"
      ],
      "text/plain": [
       "                                              Tweets\n",
       "0  RT @NadineDorries: Minister claims 80% of publ...\n",
       "1  RT @michael1crowley: I joined the LP when I wa...\n",
       "2  @DominicRaab I hope you win. Very charismatic ...\n",
       "3  RT @bbradleymp: A #brexit thread 👇\\n\\n1. In 20...\n",
       "4  RT @grahamlithgow: \"What if a no deal Brexit c..."
      ]
     },
     "metadata": {},
     "output_type": "display_data"
    }
   ],
   "source": [
    "tweets_data = pd.DataFrame(data=[tweet.text for tweet in tweets], columns=['Tweets'])\n",
    "\n",
    "display(tweets_data.head(5))"
   ]
  },
  {
   "cell_type": "markdown",
   "metadata": {},
   "source": [
    "The methods present in the 'tweets' object are:"
   ]
  },
  {
   "cell_type": "code",
   "execution_count": 7,
   "metadata": {},
   "outputs": [
    {
     "name": "stdout",
     "output_type": "stream",
     "text": [
      "['__class__', '__delattr__', '__dict__', '__dir__', '__doc__', '__eq__', '__format__', '__ge__', '__getattribute__', '__getstate__', '__gt__', '__hash__', '__init__', '__init_subclass__', '__le__', '__lt__', '__module__', '__ne__', '__new__', '__reduce__', '__reduce_ex__', '__repr__', '__setattr__', '__sizeof__', '__str__', '__subclasshook__', '__weakref__', '_api', '_json', 'author', 'contributors', 'coordinates', 'created_at', 'destroy', 'entities', 'favorite', 'favorite_count', 'favorited', 'geo', 'id', 'id_str', 'in_reply_to_screen_name', 'in_reply_to_status_id', 'in_reply_to_status_id_str', 'in_reply_to_user_id', 'in_reply_to_user_id_str', 'is_quote_status', 'lang', 'metadata', 'parse', 'parse_list', 'place', 'retweet', 'retweet_count', 'retweeted', 'retweeted_status', 'retweets', 'source', 'source_url', 'text', 'truncated', 'user']\n"
     ]
    }
   ],
   "source": [
    "print(dir(tweets[0]))"
   ]
  },
  {
   "cell_type": "markdown",
   "metadata": {},
   "source": [
    "Filtering from 'tweets' methods resulting in dataset required for analysis"
   ]
  },
  {
   "cell_type": "code",
   "execution_count": 8,
   "metadata": {},
   "outputs": [
    {
     "data": {
      "text/plain": [
       "378"
      ]
     },
     "execution_count": 8,
     "metadata": {},
     "output_type": "execute_result"
    }
   ],
   "source": [
    "len(tweets_data)"
   ]
  },
  {
   "cell_type": "markdown",
   "metadata": {},
   "source": [
    "Creating csv file with sentiment of tweets"
   ]
  },
  {
   "cell_type": "code",
   "execution_count": 9,
   "metadata": {},
   "outputs": [],
   "source": [
    "csvFile = open('Sentiment of Tweets.csv', 'w')\n",
    "#Use csv writer\n",
    "csvWriter = csv.writer(csvFile)\n",
    "csvWriter.writerow(['Text', 'Sentiment'])\n",
    "\n",
    "i=0\n",
    "for tweet in tweets:\n",
    "    analysis = TextBlob(tweet.text)\n",
    "    if analysis.sentiment[0]>0:\n",
    "        csvWriter.writerow([tweet.text.encode('utf-8'), \"Positive\"])\n",
    "    elif analysis.sentiment[0]<0:\n",
    "        csvWriter.writerow([tweet.text.encode('utf-8'), \"Negative\"])\n",
    "    else:\n",
    "        csvWriter.writerow([tweet.text.encode('utf-8'), \"Neutral\"])\n",
    "\n",
    "csvFile.close()"
   ]
  },
  {
   "cell_type": "code",
   "execution_count": 9,
   "metadata": {},
   "outputs": [],
   "source": [
    "import re, string, unicodedata\n",
    "import nltk\n",
    "\n",
    "from bs4 import BeautifulSoup\n",
    "from nltk import word_tokenize, sent_tokenize\n",
    "from nltk.corpus import stopwords\n",
    "from nltk.stem import WordNetLemmatizer\n",
    "\n",
    "\n",
    "def remove_non_ascii(words):\n",
    "    \"\"\"Remove non-ASCII characters from list of tokenized words\"\"\"\n",
    "    new_words = []\n",
    "    for word in words:\n",
    "        new_word = unicodedata.normalize('NFKD', word).encode('ascii', 'ignore').decode('utf-8', 'ignore')\n",
    "        new_words.append(new_word)\n",
    "    return new_words\n",
    "\n",
    "def lowercase(words):\n",
    "    \"\"\"Convert all characters to lowercase from list of tokenized words\"\"\"\n",
    "    new_words = []\n",
    "    for word in words:\n",
    "        new_word = word.lower()\n",
    "        new_words.append(new_word)\n",
    "    return new_words\n",
    "\n",
    "def remove_punctuation(words):\n",
    "    \"\"\"Remove punctuation from list of tokenized words\"\"\"\n",
    "    new_words = []\n",
    "    for word in words:\n",
    "        new_word = re.sub(r'[^\\w\\s]', '', word)\n",
    "        if new_word != '':\n",
    "            new_words.append(new_word)\n",
    "    return new_words\n",
    "\n",
    "def remove_stopwords(words):\n",
    "    \"\"\"Remove stop words from list of tokenized words\"\"\"\n",
    "    new_words = []\n",
    "    for word in words:\n",
    "        if word not in stopwords.words('english'):\n",
    "            new_words.append(word)\n",
    "    return new_words\n",
    "\n",
    "def lemmatize(words):\n",
    "    \"\"\"Lemmatize verbs in list of tokenized words\"\"\"\n",
    "    lemmatizer = WordNetLemmatizer()\n",
    "    lemmas = []\n",
    "    for word in words:\n",
    "        lemma = lemmatizer.lemmatize(word)\n",
    "        lemmas.append(lemma)\n",
    "    return lemmas\n",
    "\n",
    "def normalize(words):\n",
    "    words = remove_non_ascii(words)\n",
    "    words = lowercase(words)\n",
    "    words = remove_punctuation(words)\n",
    "    #words = replace_numbers(words)\n",
    "    #words = remove_stopwords(words)\n",
    "    return words\n",
    "   \n"
   ]
  },
  {
   "cell_type": "code",
   "execution_count": 10,
   "metadata": {},
   "outputs": [],
   "source": [
    "tweets_data['len']  = np.array([len(tweet.text) for tweet in tweets])\n",
    "tweets_data['ID']   = np.array([tweet.id for tweet in tweets])\n",
    "tweets_data['Date'] = np.array([tweet.created_at for tweet in tweets])\n",
    "tweets_data['Source'] = np.array([tweet.source for tweet in tweets])\n",
    "tweets_data['Likes']  = np.array([tweet.favorite_count for tweet in tweets])\n",
    "tweets_data['RTs']    = np.array([tweet.retweet_count for tweet in tweets])\n",
    "tweets_data['Language']    = np.array([tweet.lang for tweet in tweets])\n",
    "tweets_data['Cleaned Tweet']= ([lemmatize(normalize(nltk.word_tokenize(tweet.text))) for tweet in tweets])\n",
    "tweets_data['Sentiment of Cleaned']= ([TextBlob(str(tweet)).sentiment[0] for tweet in list(tweets_data['Cleaned Tweet'])])"
   ]
  },
  {
   "cell_type": "code",
   "execution_count": 11,
   "metadata": {},
   "outputs": [
    {
     "name": "stderr",
     "output_type": "stream",
     "text": [
      "F:\\Text Analytics\\Anaconda\\envs\\py37\\lib\\site-packages\\ipykernel_launcher.py:12: SettingWithCopyWarning: \n",
      "A value is trying to be set on a copy of a slice from a DataFrame\n",
      "\n",
      "See the caveats in the documentation: http://pandas.pydata.org/pandas-docs/stable/indexing.html#indexing-view-versus-copy\n",
      "  if sys.path[0] == '':\n",
      "F:\\Text Analytics\\Anaconda\\envs\\py37\\lib\\site-packages\\ipykernel_launcher.py:6: SettingWithCopyWarning: \n",
      "A value is trying to be set on a copy of a slice from a DataFrame\n",
      "\n",
      "See the caveats in the documentation: http://pandas.pydata.org/pandas-docs/stable/indexing.html#indexing-view-versus-copy\n",
      "  \n",
      "F:\\Text Analytics\\Anaconda\\envs\\py37\\lib\\site-packages\\ipykernel_launcher.py:9: SettingWithCopyWarning: \n",
      "A value is trying to be set on a copy of a slice from a DataFrame\n",
      "\n",
      "See the caveats in the documentation: http://pandas.pydata.org/pandas-docs/stable/indexing.html#indexing-view-versus-copy\n",
      "  if __name__ == '__main__':\n"
     ]
    }
   ],
   "source": [
    "i=0;\n",
    "tweets_data['Sentiment']=\"\";\n",
    "for tweet in tweets_data['Cleaned Tweet']:\n",
    "    j = TextBlob(str(tweet)).sentiment[0]\n",
    "    if(j > 0):\n",
    "        tweets_data['Sentiment'][i]='Positive'\n",
    "        i=i+1\n",
    "    elif(j < 0):\n",
    "        tweets_data['Sentiment'][i]='Negative'\n",
    "        i=i+1\n",
    "    else:\n",
    "        tweets_data['Sentiment'][i]='Neutral'\n",
    "        i=i+1"
   ]
  },
  {
   "cell_type": "code",
   "execution_count": 13,
   "metadata": {},
   "outputs": [
    {
     "data": {
      "text/html": [
       "<div>\n",
       "<style scoped>\n",
       "    .dataframe tbody tr th:only-of-type {\n",
       "        vertical-align: middle;\n",
       "    }\n",
       "\n",
       "    .dataframe tbody tr th {\n",
       "        vertical-align: top;\n",
       "    }\n",
       "\n",
       "    .dataframe thead th {\n",
       "        text-align: right;\n",
       "    }\n",
       "</style>\n",
       "<table border=\"1\" class=\"dataframe\">\n",
       "  <thead>\n",
       "    <tr style=\"text-align: right;\">\n",
       "      <th></th>\n",
       "      <th>Tweets</th>\n",
       "      <th>len</th>\n",
       "      <th>ID</th>\n",
       "      <th>Date</th>\n",
       "      <th>Source</th>\n",
       "      <th>Likes</th>\n",
       "      <th>RTs</th>\n",
       "      <th>Language</th>\n",
       "      <th>Cleaned Tweet</th>\n",
       "      <th>Sentiment of Cleaned</th>\n",
       "      <th>Sentiment</th>\n",
       "    </tr>\n",
       "  </thead>\n",
       "  <tbody>\n",
       "    <tr>\n",
       "      <th>495</th>\n",
       "      <td>RT @TheEconomist: Without a deal, Britons’ rig...</td>\n",
       "      <td>122</td>\n",
       "      <td>1100409209504419840</td>\n",
       "      <td>2019-02-26 14:56:14</td>\n",
       "      <td>Twitter Web Client</td>\n",
       "      <td>0</td>\n",
       "      <td>22</td>\n",
       "      <td>en</td>\n",
       "      <td>[rt, theeconomist, without, a, deal, briton, r...</td>\n",
       "      <td>0.342857</td>\n",
       "      <td>Positive</td>\n",
       "    </tr>\n",
       "    <tr>\n",
       "      <th>496</th>\n",
       "      <td>RT @NPR: Just In: Prime Minister Theresa May h...</td>\n",
       "      <td>140</td>\n",
       "      <td>1100409209315745797</td>\n",
       "      <td>2019-02-26 14:56:14</td>\n",
       "      <td>Twitter Web Client</td>\n",
       "      <td>0</td>\n",
       "      <td>159</td>\n",
       "      <td>en</td>\n",
       "      <td>[rt, npr, just, in, prime, minister, theresa, ...</td>\n",
       "      <td>0.250000</td>\n",
       "      <td>Positive</td>\n",
       "    </tr>\n",
       "    <tr>\n",
       "      <th>497</th>\n",
       "      <td>RT @BBCPolitics: \"I will not sit and listen to...</td>\n",
       "      <td>140</td>\n",
       "      <td>1100409209290612739</td>\n",
       "      <td>2019-02-26 14:56:14</td>\n",
       "      <td>Twitter for Android</td>\n",
       "      <td>0</td>\n",
       "      <td>209</td>\n",
       "      <td>en</td>\n",
       "      <td>[rt, bbcpolitics, i, will, not, sit, and, list...</td>\n",
       "      <td>0.136364</td>\n",
       "      <td>Positive</td>\n",
       "    </tr>\n",
       "    <tr>\n",
       "      <th>498</th>\n",
       "      <td>RT @andyfarnell07: We can't afford a #nodealbr...</td>\n",
       "      <td>140</td>\n",
       "      <td>1100409209030492160</td>\n",
       "      <td>2019-02-26 14:56:14</td>\n",
       "      <td>Twitter for iPad</td>\n",
       "      <td>0</td>\n",
       "      <td>1</td>\n",
       "      <td>en</td>\n",
       "      <td>[rt, andyfarnell07, we, ca, nt, afford, a, nod...</td>\n",
       "      <td>0.000000</td>\n",
       "      <td>Neutral</td>\n",
       "    </tr>\n",
       "    <tr>\n",
       "      <th>499</th>\n",
       "      <td>RT @chelleryn99: For those of you slagging me ...</td>\n",
       "      <td>140</td>\n",
       "      <td>1100409205666660352</td>\n",
       "      <td>2019-02-26 14:56:13</td>\n",
       "      <td>Twitter for Android</td>\n",
       "      <td>0</td>\n",
       "      <td>119</td>\n",
       "      <td>en</td>\n",
       "      <td>[rt, chelleryn99, for, those, of, you, slaggin...</td>\n",
       "      <td>0.000000</td>\n",
       "      <td>Neutral</td>\n",
       "    </tr>\n",
       "  </tbody>\n",
       "</table>\n",
       "</div>"
      ],
      "text/plain": [
       "                                                Tweets  len  \\\n",
       "495  RT @TheEconomist: Without a deal, Britons’ rig...  122   \n",
       "496  RT @NPR: Just In: Prime Minister Theresa May h...  140   \n",
       "497  RT @BBCPolitics: \"I will not sit and listen to...  140   \n",
       "498  RT @andyfarnell07: We can't afford a #nodealbr...  140   \n",
       "499  RT @chelleryn99: For those of you slagging me ...  140   \n",
       "\n",
       "                      ID                Date               Source  Likes  RTs  \\\n",
       "495  1100409209504419840 2019-02-26 14:56:14   Twitter Web Client      0   22   \n",
       "496  1100409209315745797 2019-02-26 14:56:14   Twitter Web Client      0  159   \n",
       "497  1100409209290612739 2019-02-26 14:56:14  Twitter for Android      0  209   \n",
       "498  1100409209030492160 2019-02-26 14:56:14     Twitter for iPad      0    1   \n",
       "499  1100409205666660352 2019-02-26 14:56:13  Twitter for Android      0  119   \n",
       "\n",
       "    Language                                      Cleaned Tweet  \\\n",
       "495       en  [rt, theeconomist, without, a, deal, briton, r...   \n",
       "496       en  [rt, npr, just, in, prime, minister, theresa, ...   \n",
       "497       en  [rt, bbcpolitics, i, will, not, sit, and, list...   \n",
       "498       en  [rt, andyfarnell07, we, ca, nt, afford, a, nod...   \n",
       "499       en  [rt, chelleryn99, for, those, of, you, slaggin...   \n",
       "\n",
       "     Sentiment of Cleaned Sentiment  \n",
       "495              0.342857  Positive  \n",
       "496              0.250000  Positive  \n",
       "497              0.136364  Positive  \n",
       "498              0.000000   Neutral  \n",
       "499              0.000000   Neutral  "
      ]
     },
     "execution_count": 13,
     "metadata": {},
     "output_type": "execute_result"
    }
   ],
   "source": [
    "tweets_data.tail(5)"
   ]
  },
  {
   "cell_type": "code",
   "execution_count": 14,
   "metadata": {},
   "outputs": [
    {
     "data": {
      "text/plain": [
       "count    500.00\n",
       "mean     132.17\n",
       "std       18.18\n",
       "min       36.00\n",
       "25%      139.00\n",
       "50%      140.00\n",
       "75%      140.00\n",
       "max      144.00\n",
       "Name: len, dtype: float64"
      ]
     },
     "execution_count": 14,
     "metadata": {},
     "output_type": "execute_result"
    }
   ],
   "source": [
    "round(tweets_data['len'].describe(),2)"
   ]
  },
  {
   "cell_type": "code",
   "execution_count": 15,
   "metadata": {},
   "outputs": [
    {
     "name": "stdout",
     "output_type": "stream",
     "text": [
      "Sources are:  ['Twitter for iPhone' 'Twitter for iPad' 'Twitter Web Client'\n",
      " 'Twitter for Android' 'Twitter Web App' 'SocialFlow' 'IFTTT'\n",
      " 'Latest Commentary' 'WordPress.com' 'TCR Party' 'Tweetbot for iΟS'\n",
      " 'TweetDeck']\n",
      "\n",
      "Number of tweets from  Twitter for iPhone : 145\n",
      "Percentage of tweets from  Twitter for iPhone : 28.999999999999996\n",
      "\n",
      "Number of tweets from  Twitter for iPad : 49\n",
      "Percentage of tweets from  Twitter for iPad : 9.8\n",
      "\n",
      "Number of tweets from  Twitter Web Client : 101\n",
      "Percentage of tweets from  Twitter Web Client : 20.200000000000003\n",
      "\n",
      "Number of tweets from  Twitter for Android : 128\n",
      "Percentage of tweets from  Twitter for Android : 25.6\n",
      "\n",
      "Number of tweets from  Twitter Web App : 42\n",
      "Percentage of tweets from  Twitter Web App : 8.4\n",
      "\n",
      "Number of tweets from  SocialFlow : 5\n",
      "Percentage of tweets from  SocialFlow : 1.0\n",
      "\n",
      "Number of tweets from  IFTTT : 7\n",
      "Percentage of tweets from  IFTTT : 1.4000000000000001\n",
      "\n",
      "Number of tweets from  Latest Commentary : 5\n",
      "Percentage of tweets from  Latest Commentary : 1.0\n",
      "\n",
      "Number of tweets from  WordPress.com : 5\n",
      "Percentage of tweets from  WordPress.com : 1.0\n",
      "\n",
      "Number of tweets from  TCR Party : 5\n",
      "Percentage of tweets from  TCR Party : 1.0\n",
      "\n",
      "Number of tweets from  Tweetbot for iΟS : 5\n",
      "Percentage of tweets from  Tweetbot for iΟS : 1.0\n",
      "\n",
      "Number of tweets from  TweetDeck : 3\n",
      "Percentage of tweets from  TweetDeck : 0.6\n",
      "[29.0, 9.8, 20.2, 25.6, 8.4, 1.0, 1.4, 1.0, 1.0, 1.0, 1.0, 0.6]\n",
      "                 Source  Share\n",
      "0    Twitter for iPhone   29.0\n",
      "3   Twitter for Android   25.6\n",
      "2    Twitter Web Client   20.2\n",
      "1      Twitter for iPad    9.8\n",
      "4       Twitter Web App    8.4\n",
      "6                 IFTTT    1.4\n",
      "5            SocialFlow    1.0\n",
      "7     Latest Commentary    1.0\n",
      "8         WordPress.com    1.0\n",
      "9             TCR Party    1.0\n",
      "10     Tweetbot for iΟS    1.0\n",
      "11            TweetDeck    0.6\n"
     ]
    }
   ],
   "source": [
    "count=0;\n",
    "i=0;\n",
    "sources=tweets_data.Source.unique()\n",
    "perc=[]\n",
    "pos=[]\n",
    "print(\"Sources are: \",tweets_data.Source.unique())\n",
    "for source in sources:\n",
    "    count=0;\n",
    "    for tweet in tweets:\n",
    "        if(tweet.source==source):\n",
    "            count=count+1;\n",
    "    print(\"\\nNumber of tweets from \",source,\":\",count)\n",
    "    print(\"Percentage of tweets from \",source,\":\", ((count/len(tweets))*100))\n",
    "    perc.append(round((count/len(tweets))*100,2))\n",
    "\n",
    "print(perc)\n",
    "\n",
    "percentage_list = pd.DataFrame(\n",
    "    {'Source': sources,\n",
    "     'Share': perc,\n",
    "    })\n",
    "\n",
    "print(percentage_list.sort_values('Share',ascending=False));"
   ]
  },
  {
   "cell_type": "code",
   "execution_count": 16,
   "metadata": {
    "scrolled": false
   },
   "outputs": [
    {
     "data": {
      "image/png": "[encoded data removed]",
      "text/plain": [
       "<Figure size 432x288 with 1 Axes>"
      ]
     },
     "metadata": {},
     "output_type": "display_data"
    }
   ],
   "source": [
    "#https://medium.com/@kvnamipara/a-better-visualisation-of-pie-charts-by-matplotlib-935b7667d77f\n",
    "\n",
    "import matplotlib.pyplot as plt\n",
    "\n",
    "percentage_list=percentage_list.sort_values('Share',ascending=True)\n",
    "# Pie chart, where the slices will be ordered and plotted counter-clockwise:\n",
    "labels = np.array(percentage_list['Source'])\n",
    "sizes = np.array(percentage_list['Share'])\n",
    "explode = (0, 0.1, 0, 0)  # only \"explode\" the 2nd slice (i.e. 'Hogs')\n",
    "\n",
    "fig1, ax1 = plt.subplots()\n",
    "ax1.pie(sizes, labels=labels, autopct='%1.1f%%',\n",
    "        shadow=True, startangle=90)\n",
    "ax1.axis('equal')  # Equal aspect ratio ensures that pie is drawn as a circle.\n",
    "\n",
    "plt.show()"
   ]
  },
  {
   "cell_type": "code",
   "execution_count": 17,
   "metadata": {},
   "outputs": [
    {
     "data": {
      "image/png": "[encoded data removed]",
      "text/plain": [
       "<Figure size 432x288 with 1 Axes>"
      ]
     },
     "metadata": {},
     "output_type": "display_data"
    }
   ],
   "source": [
    "percentage_list=percentage_list.sort_values('Share',ascending=False)\n",
    "# Pie chart, where the slices will be ordered and plotted counter-clockwise:\n",
    "labels = np.array(percentage_list['Source'][0:5])\n",
    "sizes = np.array(percentage_list['Share'][0:5])\n",
    " \n",
    "plt.pie(sizes,labels=labels, autopct='%1.1f%%', startangle=90, pctdistance=0.85)\n",
    "#draw circle\n",
    "centre_circle = plt.Circle((0,0),0.70,fc='white')\n",
    "fig = plt.gcf()\n",
    "fig.gca().add_artist(centre_circle)\n",
    "# Equal aspect ratio ensures that pie is drawn as a circle\n",
    "ax1.axis('equal')  \n",
    "plt.tight_layout()\n",
    "plt.show()"
   ]
  },
  {
   "cell_type": "code",
   "execution_count": 206,
   "metadata": {},
   "outputs": [
    {
     "name": "stdout",
     "output_type": "stream",
     "text": [
      "0     Twitter for iPhone\n",
      "3    Twitter for Android\n",
      "1     Twitter Web Client\n",
      "5       Twitter for iPad\n",
      "2        Twitter Web App\n",
      "7       Tweetbot for iΟS\n",
      "8             SocialFlow\n",
      "4         Hootsuite Inc.\n",
      "6              TweetDeck\n",
      "9          WordPress.com\n",
      "Name: Source, dtype: object\n"
     ]
    }
   ],
   "source": [
    "print(percentage_list['Source'])"
   ]
  },
  {
   "cell_type": "code",
   "execution_count": 18,
   "metadata": {},
   "outputs": [
    {
     "data": {
      "image/png": "[encoded data removed]",
      "text/plain": [
       "<Figure size 432x288 with 1 Axes>"
      ]
     },
     "metadata": {},
     "output_type": "display_data"
    }
   ],
   "source": [
    "import matplotlib.pyplot as plt\n",
    " \n",
    "# Data to plot\n",
    "labels = ['Python', 'C++', 'Ruby', 'Java']\n",
    "sizes = [504, 337, 415, 280]\n",
    "labels_gender = ['Man','Woman','Man','Woman','Man','Woman','Man','Woman']\n",
    "sizes_gender = [315,189,125,212,270,145,190,90]\n",
    "colors = ['#ff6666', '#ffcc99', '#99ff99', '#66b3ff']\n",
    "colors_gender = ['#c2c2f0','#ffb3e6', '#c2c2f0','#ffb3e6', '#c2c2f0','#ffb3e6', '#c2c2f0','#ffb3e6']\n",
    " \n",
    "# Plot\n",
    "plt.pie(sizes, labels=labels, colors=colors, startangle=90,frame=True)\n",
    "plt.pie(sizes_gender,colors=colors_gender,radius=0.75,startangle=90)\n",
    "centre_circle = plt.Circle((0,0),0.5,color='black', fc='white',linewidth=0)\n",
    "fig = plt.gcf()\n",
    "fig.gca().add_artist(centre_circle)\n",
    " \n",
    "plt.axis('equal')\n",
    "plt.tight_layout()\n",
    "plt.show()"
   ]
  }
 ],
 "metadata": {
  "kernelspec": {
   "display_name": "Python 3",
   "language": "python",
   "name": "python3"
  },
  "language_info": {
   "codemirror_mode": {
    "name": "ipython",
    "version": 3
   },
   "file_extension": ".py",
   "mimetype": "text/x-python",
   "name": "python",
   "nbconvert_exporter": "python",
   "pygments_lexer": "ipython3",
   "version": "3.7.1"
  }
 },
 "nbformat": 4,
 "nbformat_minor": 2
}
